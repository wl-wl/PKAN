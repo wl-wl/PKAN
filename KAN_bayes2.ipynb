{
 "nbformat": 4,
 "nbformat_minor": 0,
 "metadata": {
  "colab": {
   "provenance": [],
   "gpuType": "T4",
   "collapsed_sections": [
    "LRMpDTp_cVt5",
    "7RE1svm9cXkX"
   ]
  },
  "kernelspec": {
   "name": "python3",
   "language": "python",
   "display_name": "Python 3 (ipykernel)"
  },
  "language_info": {
   "name": "python"
  },
  "accelerator": "GPU"
 },
 "cells": [
  {
   "cell_type": "markdown",
   "source": [
    "# Implementation of a KAN for regression\n",
    "In this notebook I implement a Kolmogorov-Arnold Network (KAN) for the use of regression and compare it against a neural network of a similar architecture."
   ],
   "metadata": {
    "id": "_iPv5Nnr8iGf"
   }
  },
  {
   "cell_type": "markdown",
   "source": [
    "## Initialisations"
   ],
   "metadata": {
    "id": "LRMpDTp_cVt5"
   }
  },
  {
   "cell_type": "code",
   "source": [
    "import torch\n",
    "from kan import *\n",
    "import matplotlib.pyplot as plt\n",
    "from sklearn.datasets import fetch_california_housing\n",
    "from sklearn.model_selection import train_test_split\n",
    "from tqdm import tqdm\n",
    "from sklearn.preprocessing import StandardScaler\n",
    "import scipy.stats.stats as st\n",
    "import csv\n",
    "# if torch.cuda.is_available():\n",
    "#   device = torch.device(\"cuda\")\n",
    "# else:\n",
    "#   device = torch.device(\"cpu\")\n",
    "device = torch.device(\"cpu\")\n",
    "print(device)"
   ],
   "metadata": {
    "id": "qrVEGBzEcUQc",
    "colab": {
     "base_uri": "https://localhost:8080/"
    },
    "outputId": "2ac80d62-f694-4641-800e-1b6e41e5468f",
    "ExecuteTime": {
     "end_time": "2024-10-03T07:32:16.044825Z",
     "start_time": "2024-10-03T07:32:14.673527Z"
    }
   },
   "execution_count": 1,
   "outputs": [
    {
     "name": "stdout",
     "output_type": "stream",
     "text": [
      "cpu\n"
     ]
    }
   ]
  },
  {
   "cell_type": "markdown",
   "source": [
    "## Loading the Dataset"
   ],
   "metadata": {
    "id": "7RE1svm9cXkX",
    "ExecuteTime": {
     "end_time": "2024-10-01T07:21:03.848409Z",
     "start_time": "2024-10-01T07:19:41.884978Z"
    }
   }
  },
  {
   "cell_type": "code",
   "execution_count": 2,
   "outputs": [
    {
     "name": "stdout",
     "output_type": "stream",
     "text": [
      "6083\n",
      "数组中没有 NaN 或无穷大的值\n"
     ]
    }
   ],
   "source": [
    "df = pd.read_csv('mic_b.csv')\n",
    "from sklearn.model_selection import train_test_split\n",
    "\n",
    "protein_list = df['sequence']\n",
    "y_label = df['mic_value']\n",
    "\n",
    "\n",
    "def calculate_aac(protein_list):\n",
    "    amino_acids = 'ACDEFGHIKLMNPQRSTVWY'\n",
    "\n",
    "    # 初始化存储结果的列表\n",
    "    aac_list = []\n",
    "\n",
    "    for protein_sequence in protein_list:\n",
    "        # 初始化AAC特征字典\n",
    "        aac = {aa: 0 for aa in amino_acids}\n",
    "\n",
    "        # 计算每种氨基酸在序列中的频率\n",
    "        for aa in protein_sequence:\n",
    "            if aa in aac:\n",
    "                aac[aa] += 1\n",
    "\n",
    "        # 将频率转换为比例\n",
    "        sequence_length = len(protein_sequence)\n",
    "        aac = [count / sequence_length for aa, count in aac.items()]\n",
    "\n",
    "        # 将结果添加到列表中\n",
    "        aac_list.append(aac)\n",
    "\n",
    "    return aac_list\n",
    "\n",
    "\n",
    "aac = calculate_aac(protein_list)\n",
    "\n",
    "\n",
    "def aaindex(protein_list):\n",
    "    # protein_list = []\n",
    "    csv_file_path = 'aaindex1.csv'\n",
    "    lag = 2\n",
    "    data = []\n",
    "    with open(csv_file_path, mode='r', encoding='utf-8') as file:\n",
    "        csv_reader = csv.reader(file)\n",
    "\n",
    "        # Skip the first cell of the first row\n",
    "        for row in csv_reader:\n",
    "            # Append the row with the first cell removed to the data list\n",
    "            # data.append([float(value) for value in row[1:]])\n",
    "            if 'A' in row or 'NA' in row:\n",
    "                continue\n",
    "            row = row[1:]\n",
    "            data.append([float(value) for value in row])\n",
    "    data = data[1:]\n",
    "    # print(data[0])\n",
    "    AAindex_list = pd.DataFrame(data)\n",
    "\n",
    "    # 用0填充 NaN 值（或者你可以选择其他处理方法）\n",
    "    AAindex_list = AAindex_list.fillna(0)\n",
    "\n",
    "    # 将 DataFrame 转换回二维列表\n",
    "    AAindex_list = AAindex_list.values.tolist()\n",
    "    if np.isnan(AAindex_list).any() or np.isinf(AAindex_list).any():\n",
    "        print(\"1数组中含有 NaN 或无穷大的值\")\n",
    "\n",
    "    autocorrelation = []\n",
    "    for sequence in protein_list:\n",
    "        # print(sequence)\n",
    "        temp = []\n",
    "        for property_values in AAindex_list:\n",
    "            # 将氨基酸序列转换为属性值序列\n",
    "            #     property_values = np.array([property_dict[aa] for aa in sequence])\n",
    "            property_values = [0 if value is None else value for value in property_values]\n",
    "            # 计算属性值的平均值\n",
    "            # print(property_values)\n",
    "            mean_value = np.mean(property_values)\n",
    "            # print(mean_value)\n",
    "            # 计算Moran自相关\n",
    "            n = len(sequence)\n",
    "            if n <= lag:\n",
    "                temp.append(0)\n",
    "                continue\n",
    "            autocorr = np.sum((property_values[:-lag] - mean_value) * (property_values[lag:] - mean_value))\n",
    "            autocorr /= (n - lag)\n",
    "            # print(autocorr)\n",
    "            temp.append(autocorr)\n",
    "\n",
    "        autocorrelation.append(temp)\n",
    "    if np.isnan(autocorrelation).any() or np.isinf(autocorrelation).any():\n",
    "        print(\"2数组中含有 NaN 或无穷大的值\")\n",
    "\n",
    "    v = []\n",
    "    for i in range(len(autocorrelation)):\n",
    "        vtar = autocorrelation[i]\n",
    "        vtarv = []\n",
    "        vtar7 = 0\n",
    "        vtar8 = 0\n",
    "        vtar9 = 0\n",
    "        s = pd.Series(vtar)\n",
    "        vtar3 = np.mean(vtar)  # These 4 dimensions are relevant statistical terms\n",
    "        vtar4 = st.kurtosis(vtar)\n",
    "        vtar5 = np.var(vtar)\n",
    "        vtar6 = st.skew(vtar)\n",
    "        #for p in range(len(vtar)): # These 3 dimensions are inspired by PAFIG algorithm\n",
    "        #vtar7=vtar[p]**2+vtar7\n",
    "        #if vtar[p]>va:\n",
    "        #vtar8=vtar[p]**2+vtar8\n",
    "        #else:\n",
    "        #vtar9=vtar[p]**2+vtar9\n",
    "        vcf1 = []\n",
    "        vcf2 = []\n",
    "        for j in range(len(vtar) - 1):  #Sequence-order-correlation terms\n",
    "            vcf1.append((vtar[j] - vtar[j + 1]))\n",
    "        for k in range(len(vtar) - 2):\n",
    "            vcf2.append((vtar[k] - vtar[k + 2]))\n",
    "        vtar10 = np.mean(vcf1)\n",
    "        vtar11 = np.var(vcf1)\n",
    "        vtar11A = st.kurtosis(vcf1)\n",
    "        vtar11B = st.skew(vcf1)\n",
    "        vtar12 = np.mean(vcf2)\n",
    "        vtar13 = np.var(vcf2)\n",
    "        vtar13A = st.kurtosis(vcf2)\n",
    "        vtar13B = st.skew(vcf2)\n",
    "        vtarv.append(vtar3)\n",
    "        vtarv.append(vtar4)\n",
    "        vtarv.append(vtar5)\n",
    "        vtarv.append(vtar6)\n",
    "        #vtarv.append(vtar7/len(vtar))\n",
    "        #vtarv.append(vtar8/len(vtar))\n",
    "        #vtarv.append(vtar9/len(vtar))\n",
    "        vtarv.append(vtar10)\n",
    "        vtarv.append(vtar11)\n",
    "        vtarv.append(vtar11A)\n",
    "        vtarv.append(vtar11B)\n",
    "        vtarv.append(vtar12)\n",
    "        vtarv.append(vtar13)\n",
    "        vtarv.append(vtar13A)\n",
    "        vtarv.append(vtar13B)\n",
    "        v.append(vtarv)\n",
    "    return v\n",
    "\n",
    "\n",
    "AC = aaindex(protein_list)\n",
    "AC = np.array(AC)  # 转换为 NumPy 数组\n",
    "\n",
    "# 检查是否为二维数组\n",
    "if len(AC.shape) == 2:\n",
    "    # 对每一行进行 Z-score 标准化\n",
    "    AC = (AC - np.mean(AC, axis=1, keepdims=True)) / np.std(AC, axis=1, keepdims=True)\n",
    "    print(len(AC))\n",
    "else:\n",
    "    print(\"AC 不是二维数组\")\n",
    "# print(AC,AC.shape)\n",
    "\n",
    "if np.isnan(AC).any() or np.isinf(AC).any():\n",
    "    print(\"数组中含有 NaN 或无穷大的值\")\n",
    "\n",
    "    # 找出NaN的位置\n",
    "    nan_indices = np.where(np.isnan(AC))[0]  # 找出 NaN 的索引\n",
    "    print(\"NaN值所在的索引:\", nan_indices)\n",
    "\n",
    "    # 找出无穷大的位置\n",
    "    inf_indices = np.where(np.isinf(AC))[0]  # 找出 inf 的索引\n",
    "    print(\"无穷大值所在的索引:\", inf_indices)\n",
    "else:\n",
    "    print(\"数组中没有 NaN 或无穷大的值\")\n"
   ],
   "metadata": {
    "collapsed": false,
    "ExecuteTime": {
     "end_time": "2024-10-03T07:33:36.273185Z",
     "start_time": "2024-10-03T07:32:18.118226Z"
    }
   }
  },
  {
   "cell_type": "code",
   "execution_count": 3,
   "outputs": [
    {
     "name": "stderr",
     "output_type": "stream",
     "text": [
      "/home/wangli/anaconda3/envs/mykan/lib/python3.7/site-packages/ipykernel_launcher.py:39: UserWarning: To copy construct from a tensor, it is recommended to use sourceTensor.clone().detach() or sourceTensor.clone().detach().requires_grad_(True), rather than torch.tensor(sourceTensor).\n",
      "/home/wangli/anaconda3/envs/mykan/lib/python3.7/site-packages/ipykernel_launcher.py:40: UserWarning: To copy construct from a tensor, it is recommended to use sourceTensor.clone().detach() or sourceTensor.clone().detach().requires_grad_(True), rather than torch.tensor(sourceTensor).\n",
      "/home/wangli/anaconda3/envs/mykan/lib/python3.7/site-packages/ipykernel_launcher.py:41: UserWarning: To copy construct from a tensor, it is recommended to use sourceTensor.clone().detach() or sourceTensor.clone().detach().requires_grad_(True), rather than torch.tensor(sourceTensor).\n",
      "/home/wangli/anaconda3/envs/mykan/lib/python3.7/site-packages/ipykernel_launcher.py:42: UserWarning: To copy construct from a tensor, it is recommended to use sourceTensor.clone().detach() or sourceTensor.clone().detach().requires_grad_(True), rather than torch.tensor(sourceTensor).\n"
     ]
    },
    {
     "data": {
      "text/plain": "torch.Size([4866, 199])"
     },
     "execution_count": 3,
     "metadata": {},
     "output_type": "execute_result"
    }
   ],
   "source": [
    "def maccs_feature(file):\n",
    "    maccs_list = []\n",
    "    with open(file, 'r') as f:\n",
    "        for line in f:\n",
    "            maccs = list(map(int, line.strip().split()))\n",
    "            # print(maccs)\n",
    "            maccs_list.append(maccs)\n",
    "    return maccs_list\n",
    "\n",
    "\n",
    "train_file = 'maccs_AMP.txt'\n",
    "maccs = maccs_feature(train_file)\n",
    "\n",
    "# len(maccs),maccs[0]\n",
    "X = np.concatenate((maccs, aac, AC), axis=1)\n",
    "# X=np.array(aac)\n",
    "X = np.array(X)\n",
    "y = np.array(y_label)\n",
    "\n",
    "X_train, X_test, y_train, y_test = train_test_split(X, y, test_size=0.2, random_state=42)  # 将 DataFrame 和 Series 转换为 np.array# 数据集标准化\n",
    "# x_mean = X_train.mean()\n",
    "# x_std =  X_train.std()\n",
    "# y_mean = y.mean()\n",
    "# y_std = y.std()\n",
    "# X_train = (X_train - x_mean)/x_std\n",
    "# y_train = (y_train-y_mean)/y_std\n",
    "# X_test = (X_test - x_mean)/x_std\n",
    "# y_test = (y_test - y_mean)/y_std\n",
    "import torch\n",
    "\n",
    "X_train = np.array(X_train)\n",
    "X_test = np.array(X_test)\n",
    "y_train = np.array(y_train)\n",
    "y_test = np.array(y_test)\n",
    "X_train = torch.tensor(X_train)\n",
    "y_train = torch.tensor(y_train).view(-1,1)\n",
    "X_test = torch.tensor(X_test)\n",
    "y_test = torch.tensor(y_test).view(-1,1)\n",
    "X_train = torch.tensor(X_train, dtype=torch.float32)\n",
    "y_train = torch.tensor(y_train, dtype=torch.float32)\n",
    "X_test = torch.tensor(X_test, dtype=torch.float32)\n",
    "y_test = torch.tensor(y_test, dtype=torch.float32)\n",
    "dataset = {}\n",
    "dataset = {\n",
    "    'train_input': X_train,\n",
    "    'test_input': X_test,\n",
    "    'train_label': y_train,\n",
    "    'test_label': y_test\n",
    "}\n",
    "X_train.shape"
   ],
   "metadata": {
    "collapsed": false,
    "ExecuteTime": {
     "end_time": "2024-10-03T07:33:43.955029Z",
     "start_time": "2024-10-03T07:33:43.847430Z"
    }
   }
  },
  {
   "cell_type": "code",
   "execution_count": null,
   "outputs": [],
   "source": [
    "X_train"
   ],
   "metadata": {
    "collapsed": false
   }
  },
  {
   "cell_type": "code",
   "execution_count": null,
   "outputs": [],
   "source": [
    "y_train"
   ],
   "metadata": {
    "collapsed": false
   }
  },
  {
   "cell_type": "code",
   "source": [
    "def load_calhous_dataset():\n",
    "    # Load California housing dataset\n",
    "    calhous = fetch_california_housing()\n",
    "    data = calhous.data\n",
    "    target = calhous.target\n",
    "\n",
    "    scaler = StandardScaler()\n",
    "    data = scaler.fit_transform(data)\n",
    "\n",
    "    # Convert to PyTorch tensors\n",
    "    data_tensor = torch.tensor(data, dtype=torch.float32)\n",
    "    target_tensor = torch.tensor(target, dtype=torch.float32)\n",
    "\n",
    "    # Split dataset into train and test sets\n",
    "    train_data, test_data, train_target, test_target = train_test_split(data_tensor, target_tensor, test_size=0.2, random_state=42)\n",
    "\n",
    "    # Create data loaders (optional, if you want to batch and shuffle the data)\n",
    "    train_loader = torch.utils.data.DataLoader(torch.utils.data.TensorDataset(train_data, train_target), batch_size=1, shuffle=True)\n",
    "    test_loader = torch.utils.data.DataLoader(torch.utils.data.TensorDataset(test_data, test_target), batch_size=1, shuffle=False)\n",
    "\n",
    "    train_inputs = torch.empty(0, 8, device=device)\n",
    "    train_labels = torch.empty(0, dtype=torch.long, device=device)\n",
    "    test_inputs = torch.empty(0, 8, device=device)\n",
    "    test_labels = torch.empty(0, dtype=torch.long, device=device)\n",
    "\n",
    "    # Concatenate all data into a single tensor on the specified device\n",
    "    for data, labels in tqdm(train_loader):\n",
    "        train_inputs = torch.cat((train_inputs, data.to(device)), dim=0)\n",
    "        train_labels = torch.cat((train_labels, labels.to(device)), dim=0)\n",
    "\n",
    "    for data, labels in tqdm(test_loader):\n",
    "        test_inputs = torch.cat((test_inputs, data.to(device)), dim=0)\n",
    "        test_labels = torch.cat((test_labels, labels.to(device)), dim=0)\n",
    "\n",
    "    dataset = {}\n",
    "    dataset['train_input'] = train_inputs\n",
    "    dataset['test_input'] = test_inputs\n",
    "    dataset['train_label'] = train_labels.reshape(-1, 1)\n",
    "    dataset['test_label'] = test_labels.reshape(-1, 1)\n",
    "\n",
    "    return dataset\n",
    "\n",
    "dataset = load_calhous_dataset()"
   ],
   "metadata": {
    "id": "wMwDaT0icUJD",
    "colab": {
     "base_uri": "https://localhost:8080/"
    },
    "outputId": "f943ff7b-28d2-4476-c0ca-8184280aa1e5"
   },
   "execution_count": null,
   "outputs": []
  },
  {
   "cell_type": "code",
   "source": [
    "print(\"Train data shape: {}\".format(dataset['train_input'].shape))\n",
    "print(\"Train target shape: {}\".format(dataset['train_label'].shape))\n",
    "print(\"Test data shape: {}\".format(dataset['test_input'].shape))\n",
    "print(\"Test target shape: {}\".format(dataset['test_label'].shape))\n",
    "print(\"====================================\")"
   ],
   "metadata": {
    "id": "wDBtdgGocUHM",
    "colab": {
     "base_uri": "https://localhost:8080/"
    },
    "outputId": "5728e6e5-0d37-49ba-e29b-474c58d105d0"
   },
   "execution_count": null,
   "outputs": []
  },
  {
   "cell_type": "markdown",
   "source": [
    "## Creating and Training the KAN"
   ],
   "metadata": {
    "id": "D7ERosp1iM17",
    "ExecuteTime": {
     "end_time": "2024-10-01T07:58:43.585389Z",
     "start_time": "2024-10-01T07:58:41.598267Z"
    }
   }
  },
  {
   "cell_type": "code",
   "source": [
    "image_folder = 'video_img'\n",
    "\n",
    "model = KAN(width=[199, [5,4], 1], grid=1000, k=10, seed=0)"
   ],
   "metadata": {
    "id": "xkjQDBTnNFHw",
    "colab": {
     "base_uri": "https://localhost:8080/",
     "height": 321
    },
    "outputId": "42f17bbf-4154-4b71-f9c7-2bb62433b3c4",
    "ExecuteTime": {
     "end_time": "2024-10-03T07:35:12.427433Z",
     "start_time": "2024-10-03T07:33:51.864155Z"
    }
   },
   "execution_count": 4,
   "outputs": [
    {
     "name": "stdout",
     "output_type": "stream",
     "text": [
      "checkpoint directory created: ./model\n",
      "saving model version 0.0\n"
     ]
    }
   ]
  },
  {
   "cell_type": "code",
   "execution_count": 5,
   "outputs": [
    {
     "data": {
      "text/plain": "tensor([[-0.9894],\n        [ 2.0000],\n        [ 0.7870],\n        ...,\n        [ 1.1551],\n        [ 2.2700],\n        [ 2.0000]])"
     },
     "execution_count": 5,
     "metadata": {},
     "output_type": "execute_result"
    }
   ],
   "source": [
    "dataset['train_label']"
   ],
   "metadata": {
    "collapsed": false,
    "ExecuteTime": {
     "end_time": "2024-10-03T07:21:28.789590Z",
     "start_time": "2024-10-03T07:21:28.781514Z"
    }
   }
  },
  {
   "cell_type": "code",
   "source": [
    "from sklearn import metrics\n",
    "def train_mse():\n",
    "    with torch.no_grad():\n",
    "        \n",
    "        predictions = model(dataset['train_input'])\n",
    "        # print('train predictions',predictions)\n",
    "        mse = torch.nn.functional.mse_loss(predictions, dataset['train_label'])\n",
    "        rmse = np.sqrt(mse)\n",
    "        mae = metrics.mean_absolute_error(dataset['train_label'], predictions)\n",
    "        r2 = metrics.r2_score(dataset['train_label'], predictions)\n",
    "        def mean_absolute_percentage_error(y_true, y_pred):    \n",
    "            return np.mean(np.abs((y_true - y_pred) / y_true)) * 100\n",
    "        mape = mean_absolute_percentage_error(dataset['train_label'], predictions)\n",
    "        print('train====================================')\n",
    "        print(f\"Mean Squared Error (MSE): {mse:.4f}\")\n",
    "        print(f\"Root Mean Squared Error (RMSE): {rmse:.4f}\")\n",
    "        print(f\"Mean Absolute Error (MAE): {mae:.4f}\")\n",
    "        print(f\"R-squared (R2): {r2:.4f}\")\n",
    "        print(f\"Mean Absolute Percentage Error (MAPE): {mape:.4f}%\")\n",
    "        return mse\n",
    "\n",
    "def test_mse():\n",
    "    with torch.no_grad():\n",
    "        predictions = model(dataset['test_input'])\n",
    "        mse = torch.nn.functional.mse_loss(predictions, dataset['test_label'])\n",
    "        rmse = np.sqrt(mse)\n",
    "        mae = metrics.mean_absolute_error(dataset['test_label'], predictions)\n",
    "        r2 = metrics.r2_score(dataset['test_label'], predictions)\n",
    "        def mean_absolute_percentage_error(y_true, y_pred):    \n",
    "            return np.mean(np.abs((y_true - y_pred) / y_true)) * 100\n",
    "        mape = mean_absolute_percentage_error(dataset['test_label'], predictions)\n",
    "        print('test====================================')\n",
    "        print(f\"Mean Squared Error (MSE): {mse:.4f}\")\n",
    "        print(f\"Root Mean Squared Error (RMSE): {rmse:.4f}\")\n",
    "        print(f\"Mean Absolute Error (MAE): {mae:.4f}\")\n",
    "        print(f\"R-squared (R2): {r2:.4f}\")\n",
    "        print(f\"Mean Absolute Percentage Error (MAPE): {mape:.4f}%\")\n",
    "    return mse\n",
    "#修改优化器\n",
    "results = model.fit(dataset, opt=\"LBFGS\", metrics=(train_mse, test_mse),\n",
    "                      loss_fn=torch.nn.MSELoss(), steps=25, lamb=0.0, lamb_entropy=2., save_fig=False, img_folder=image_folder)\n",
    "# results = model.fit(calhous_dataset, opt=\"LBFGS\", metrics=(train_mse, test_mse), steps=5)"
   ],
   "metadata": {
    "colab": {
     "base_uri": "https://localhost:8080/"
    },
    "id": "OhNKU6T1iLWe",
    "outputId": "c1050905-cf4e-428f-ff3f-80d82944b34d",
    "ExecuteTime": {
     "end_time": "2024-10-03T07:50:11.914213Z",
     "start_time": "2024-10-03T07:36:07.606855Z"
    }
   },
   "execution_count": 5,
   "outputs": [
    {
     "name": "stderr",
     "output_type": "stream",
     "text": [
      "description:   0%|                                                           | 0/25 [14:04<?, ?it/s]\n"
     ]
    },
    {
     "ename": "KeyboardInterrupt",
     "evalue": "",
     "output_type": "error",
     "traceback": [
      "\u001B[0;31m---------------------------------------------------------------------------\u001B[0m",
      "\u001B[0;31mKeyboardInterrupt\u001B[0m                         Traceback (most recent call last)",
      "\u001B[0;32m/tmp/ipykernel_1910238/1465187766.py\u001B[0m in \u001B[0;36m<module>\u001B[0;34m\u001B[0m\n\u001B[1;32m     39\u001B[0m \u001B[0;31m#修改优化器\u001B[0m\u001B[0;34m\u001B[0m\u001B[0;34m\u001B[0m\u001B[0;34m\u001B[0m\u001B[0m\n\u001B[1;32m     40\u001B[0m results = model.fit(dataset, opt=\"LBFGS\", metrics=(train_mse, test_mse),\n\u001B[0;32m---> 41\u001B[0;31m                       loss_fn=torch.nn.MSELoss(), steps=25, lamb=0.0, lamb_entropy=2., save_fig=False, img_folder=image_folder)\n\u001B[0m\u001B[1;32m     42\u001B[0m \u001B[0;31m# results = model.fit(calhous_dataset, opt=\"LBFGS\", metrics=(train_mse, test_mse), steps=5)\u001B[0m\u001B[0;34m\u001B[0m\u001B[0;34m\u001B[0m\u001B[0;34m\u001B[0m\u001B[0m\n",
      "\u001B[0;32m/tmp/pycharm_project_763/kan/MultKAN.py\u001B[0m in \u001B[0;36mfit\u001B[0;34m(self, dataset, opt, steps, log, lamb, lamb_l1, lamb_entropy, lamb_coef, lamb_coefdiff, update_grid, grid_update_num, loss_fn, lr, start_grid_update_step, stop_grid_update_step, batch, small_mag_threshold, small_reg_factor, metrics, save_fig, in_vars, out_vars, beta, save_fig_freq, img_folder, device, singularity_avoiding, y_th, reg_metric, display_metrics)\u001B[0m\n\u001B[1;32m    903\u001B[0m \u001B[0;34m\u001B[0m\u001B[0m\n\u001B[1;32m    904\u001B[0m             \u001B[0;32mif\u001B[0m \u001B[0mopt\u001B[0m \u001B[0;34m==\u001B[0m \u001B[0;34m\"LBFGS\"\u001B[0m\u001B[0;34m:\u001B[0m\u001B[0;34m\u001B[0m\u001B[0;34m\u001B[0m\u001B[0m\n\u001B[0;32m--> 905\u001B[0;31m                 \u001B[0moptimizer\u001B[0m\u001B[0;34m.\u001B[0m\u001B[0mstep\u001B[0m\u001B[0;34m(\u001B[0m\u001B[0mclosure\u001B[0m\u001B[0;34m)\u001B[0m\u001B[0;34m\u001B[0m\u001B[0;34m\u001B[0m\u001B[0m\n\u001B[0m\u001B[1;32m    906\u001B[0m                 \u001B[0;31m# print(f\"AUC: {auc:.4f}, SP: {sp:.4f}, MCC: {mcc:.4f}, SN: {sn:.4f}\")\u001B[0m\u001B[0;34m\u001B[0m\u001B[0;34m\u001B[0m\u001B[0;34m\u001B[0m\u001B[0m\n\u001B[1;32m    907\u001B[0m \u001B[0;34m\u001B[0m\u001B[0m\n",
      "\u001B[0;32m~/anaconda3/envs/mykan/lib/python3.7/site-packages/torch/optim/optimizer.py\u001B[0m in \u001B[0;36mwrapper\u001B[0;34m(*args, **kwargs)\u001B[0m\n\u001B[1;32m    138\u001B[0m                 \u001B[0mprofile_name\u001B[0m \u001B[0;34m=\u001B[0m \u001B[0;34m\"Optimizer.step#{}.step\"\u001B[0m\u001B[0;34m.\u001B[0m\u001B[0mformat\u001B[0m\u001B[0;34m(\u001B[0m\u001B[0mobj\u001B[0m\u001B[0;34m.\u001B[0m\u001B[0m__class__\u001B[0m\u001B[0;34m.\u001B[0m\u001B[0m__name__\u001B[0m\u001B[0;34m)\u001B[0m\u001B[0;34m\u001B[0m\u001B[0;34m\u001B[0m\u001B[0m\n\u001B[1;32m    139\u001B[0m                 \u001B[0;32mwith\u001B[0m \u001B[0mtorch\u001B[0m\u001B[0;34m.\u001B[0m\u001B[0mautograd\u001B[0m\u001B[0;34m.\u001B[0m\u001B[0mprofiler\u001B[0m\u001B[0;34m.\u001B[0m\u001B[0mrecord_function\u001B[0m\u001B[0;34m(\u001B[0m\u001B[0mprofile_name\u001B[0m\u001B[0;34m)\u001B[0m\u001B[0;34m:\u001B[0m\u001B[0;34m\u001B[0m\u001B[0;34m\u001B[0m\u001B[0m\n\u001B[0;32m--> 140\u001B[0;31m                     \u001B[0mout\u001B[0m \u001B[0;34m=\u001B[0m \u001B[0mfunc\u001B[0m\u001B[0;34m(\u001B[0m\u001B[0;34m*\u001B[0m\u001B[0margs\u001B[0m\u001B[0;34m,\u001B[0m \u001B[0;34m**\u001B[0m\u001B[0mkwargs\u001B[0m\u001B[0;34m)\u001B[0m\u001B[0;34m\u001B[0m\u001B[0;34m\u001B[0m\u001B[0m\n\u001B[0m\u001B[1;32m    141\u001B[0m                     \u001B[0mobj\u001B[0m\u001B[0;34m.\u001B[0m\u001B[0m_optimizer_step_code\u001B[0m\u001B[0;34m(\u001B[0m\u001B[0;34m)\u001B[0m\u001B[0;34m\u001B[0m\u001B[0;34m\u001B[0m\u001B[0m\n\u001B[1;32m    142\u001B[0m                     \u001B[0;32mreturn\u001B[0m \u001B[0mout\u001B[0m\u001B[0;34m\u001B[0m\u001B[0;34m\u001B[0m\u001B[0m\n",
      "\u001B[0;32m~/anaconda3/envs/mykan/lib/python3.7/site-packages/torch/autograd/grad_mode.py\u001B[0m in \u001B[0;36mdecorate_context\u001B[0;34m(*args, **kwargs)\u001B[0m\n\u001B[1;32m     25\u001B[0m         \u001B[0;32mdef\u001B[0m \u001B[0mdecorate_context\u001B[0m\u001B[0;34m(\u001B[0m\u001B[0;34m*\u001B[0m\u001B[0margs\u001B[0m\u001B[0;34m,\u001B[0m \u001B[0;34m**\u001B[0m\u001B[0mkwargs\u001B[0m\u001B[0;34m)\u001B[0m\u001B[0;34m:\u001B[0m\u001B[0;34m\u001B[0m\u001B[0;34m\u001B[0m\u001B[0m\n\u001B[1;32m     26\u001B[0m             \u001B[0;32mwith\u001B[0m \u001B[0mself\u001B[0m\u001B[0;34m.\u001B[0m\u001B[0mclone\u001B[0m\u001B[0;34m(\u001B[0m\u001B[0;34m)\u001B[0m\u001B[0;34m:\u001B[0m\u001B[0;34m\u001B[0m\u001B[0;34m\u001B[0m\u001B[0m\n\u001B[0;32m---> 27\u001B[0;31m                 \u001B[0;32mreturn\u001B[0m \u001B[0mfunc\u001B[0m\u001B[0;34m(\u001B[0m\u001B[0;34m*\u001B[0m\u001B[0margs\u001B[0m\u001B[0;34m,\u001B[0m \u001B[0;34m**\u001B[0m\u001B[0mkwargs\u001B[0m\u001B[0;34m)\u001B[0m\u001B[0;34m\u001B[0m\u001B[0;34m\u001B[0m\u001B[0m\n\u001B[0m\u001B[1;32m     28\u001B[0m         \u001B[0;32mreturn\u001B[0m \u001B[0mcast\u001B[0m\u001B[0;34m(\u001B[0m\u001B[0mF\u001B[0m\u001B[0;34m,\u001B[0m \u001B[0mdecorate_context\u001B[0m\u001B[0;34m)\u001B[0m\u001B[0;34m\u001B[0m\u001B[0;34m\u001B[0m\u001B[0m\n\u001B[1;32m     29\u001B[0m \u001B[0;34m\u001B[0m\u001B[0m\n",
      "\u001B[0;32m/tmp/pycharm_project_763/kan/LBFGS.py\u001B[0m in \u001B[0;36mstep\u001B[0;34m(self, closure)\u001B[0m\n\u001B[1;32m    441\u001B[0m                         \u001B[0;32mreturn\u001B[0m \u001B[0mself\u001B[0m\u001B[0;34m.\u001B[0m\u001B[0m_directional_evaluate\u001B[0m\u001B[0;34m(\u001B[0m\u001B[0mclosure\u001B[0m\u001B[0;34m,\u001B[0m \u001B[0mx\u001B[0m\u001B[0;34m,\u001B[0m \u001B[0mt\u001B[0m\u001B[0;34m,\u001B[0m \u001B[0md\u001B[0m\u001B[0;34m)\u001B[0m\u001B[0;34m\u001B[0m\u001B[0;34m\u001B[0m\u001B[0m\n\u001B[1;32m    442\u001B[0m                     loss, flat_grad, t, ls_func_evals = _strong_wolfe(\n\u001B[0;32m--> 443\u001B[0;31m                         obj_func, x_init, t, d, loss, flat_grad, gtd)\n\u001B[0m\u001B[1;32m    444\u001B[0m                 \u001B[0mself\u001B[0m\u001B[0;34m.\u001B[0m\u001B[0m_add_grad\u001B[0m\u001B[0;34m(\u001B[0m\u001B[0mt\u001B[0m\u001B[0;34m,\u001B[0m \u001B[0md\u001B[0m\u001B[0;34m)\u001B[0m\u001B[0;34m\u001B[0m\u001B[0;34m\u001B[0m\u001B[0m\n\u001B[1;32m    445\u001B[0m                 \u001B[0mopt_cond\u001B[0m \u001B[0;34m=\u001B[0m \u001B[0mflat_grad\u001B[0m\u001B[0;34m.\u001B[0m\u001B[0mabs\u001B[0m\u001B[0;34m(\u001B[0m\u001B[0;34m)\u001B[0m\u001B[0;34m.\u001B[0m\u001B[0mmax\u001B[0m\u001B[0;34m(\u001B[0m\u001B[0;34m)\u001B[0m \u001B[0;34m<=\u001B[0m \u001B[0mtolerance_grad\u001B[0m\u001B[0;34m\u001B[0m\u001B[0;34m\u001B[0m\u001B[0m\n",
      "\u001B[0;32m/tmp/pycharm_project_763/kan/LBFGS.py\u001B[0m in \u001B[0;36m_strong_wolfe\u001B[0;34m(obj_func, x, t, d, f, g, gtd, c1, c2, tolerance_change, max_ls)\u001B[0m\n\u001B[1;32m     48\u001B[0m     \u001B[0mg\u001B[0m \u001B[0;34m=\u001B[0m \u001B[0mg\u001B[0m\u001B[0;34m.\u001B[0m\u001B[0mclone\u001B[0m\u001B[0;34m(\u001B[0m\u001B[0mmemory_format\u001B[0m\u001B[0;34m=\u001B[0m\u001B[0mtorch\u001B[0m\u001B[0;34m.\u001B[0m\u001B[0mcontiguous_format\u001B[0m\u001B[0;34m)\u001B[0m\u001B[0;34m\u001B[0m\u001B[0;34m\u001B[0m\u001B[0m\n\u001B[1;32m     49\u001B[0m     \u001B[0;31m# evaluate objective and gradient using initial step\u001B[0m\u001B[0;34m\u001B[0m\u001B[0;34m\u001B[0m\u001B[0;34m\u001B[0m\u001B[0m\n\u001B[0;32m---> 50\u001B[0;31m     \u001B[0mf_new\u001B[0m\u001B[0;34m,\u001B[0m \u001B[0mg_new\u001B[0m \u001B[0;34m=\u001B[0m \u001B[0mobj_func\u001B[0m\u001B[0;34m(\u001B[0m\u001B[0mx\u001B[0m\u001B[0;34m,\u001B[0m \u001B[0mt\u001B[0m\u001B[0;34m,\u001B[0m \u001B[0md\u001B[0m\u001B[0;34m)\u001B[0m\u001B[0;34m\u001B[0m\u001B[0;34m\u001B[0m\u001B[0m\n\u001B[0m\u001B[1;32m     51\u001B[0m     \u001B[0mls_func_evals\u001B[0m \u001B[0;34m=\u001B[0m \u001B[0;36m1\u001B[0m\u001B[0;34m\u001B[0m\u001B[0;34m\u001B[0m\u001B[0m\n\u001B[1;32m     52\u001B[0m     \u001B[0mgtd_new\u001B[0m \u001B[0;34m=\u001B[0m \u001B[0mg_new\u001B[0m\u001B[0;34m.\u001B[0m\u001B[0mdot\u001B[0m\u001B[0;34m(\u001B[0m\u001B[0md\u001B[0m\u001B[0;34m)\u001B[0m\u001B[0;34m\u001B[0m\u001B[0;34m\u001B[0m\u001B[0m\n",
      "\u001B[0;32m/tmp/pycharm_project_763/kan/LBFGS.py\u001B[0m in \u001B[0;36mobj_func\u001B[0;34m(x, t, d)\u001B[0m\n\u001B[1;32m    439\u001B[0m \u001B[0;34m\u001B[0m\u001B[0m\n\u001B[1;32m    440\u001B[0m                     \u001B[0;32mdef\u001B[0m \u001B[0mobj_func\u001B[0m\u001B[0;34m(\u001B[0m\u001B[0mx\u001B[0m\u001B[0;34m,\u001B[0m \u001B[0mt\u001B[0m\u001B[0;34m,\u001B[0m \u001B[0md\u001B[0m\u001B[0;34m)\u001B[0m\u001B[0;34m:\u001B[0m\u001B[0;34m\u001B[0m\u001B[0;34m\u001B[0m\u001B[0m\n\u001B[0;32m--> 441\u001B[0;31m                         \u001B[0;32mreturn\u001B[0m \u001B[0mself\u001B[0m\u001B[0;34m.\u001B[0m\u001B[0m_directional_evaluate\u001B[0m\u001B[0;34m(\u001B[0m\u001B[0mclosure\u001B[0m\u001B[0;34m,\u001B[0m \u001B[0mx\u001B[0m\u001B[0;34m,\u001B[0m \u001B[0mt\u001B[0m\u001B[0;34m,\u001B[0m \u001B[0md\u001B[0m\u001B[0;34m)\u001B[0m\u001B[0;34m\u001B[0m\u001B[0;34m\u001B[0m\u001B[0m\n\u001B[0m\u001B[1;32m    442\u001B[0m                     loss, flat_grad, t, ls_func_evals = _strong_wolfe(\n\u001B[1;32m    443\u001B[0m                         obj_func, x_init, t, d, loss, flat_grad, gtd)\n",
      "\u001B[0;32m/tmp/pycharm_project_763/kan/LBFGS.py\u001B[0m in \u001B[0;36m_directional_evaluate\u001B[0;34m(self, closure, x, t, d)\u001B[0m\n\u001B[1;32m    288\u001B[0m     \u001B[0;32mdef\u001B[0m \u001B[0m_directional_evaluate\u001B[0m\u001B[0;34m(\u001B[0m\u001B[0mself\u001B[0m\u001B[0;34m,\u001B[0m \u001B[0mclosure\u001B[0m\u001B[0;34m,\u001B[0m \u001B[0mx\u001B[0m\u001B[0;34m,\u001B[0m \u001B[0mt\u001B[0m\u001B[0;34m,\u001B[0m \u001B[0md\u001B[0m\u001B[0;34m)\u001B[0m\u001B[0;34m:\u001B[0m\u001B[0;34m\u001B[0m\u001B[0;34m\u001B[0m\u001B[0m\n\u001B[1;32m    289\u001B[0m         \u001B[0mself\u001B[0m\u001B[0;34m.\u001B[0m\u001B[0m_add_grad\u001B[0m\u001B[0;34m(\u001B[0m\u001B[0mt\u001B[0m\u001B[0;34m,\u001B[0m \u001B[0md\u001B[0m\u001B[0;34m)\u001B[0m\u001B[0;34m\u001B[0m\u001B[0;34m\u001B[0m\u001B[0m\n\u001B[0;32m--> 290\u001B[0;31m         \u001B[0mloss\u001B[0m \u001B[0;34m=\u001B[0m \u001B[0mfloat\u001B[0m\u001B[0;34m(\u001B[0m\u001B[0mclosure\u001B[0m\u001B[0;34m(\u001B[0m\u001B[0;34m)\u001B[0m\u001B[0;34m)\u001B[0m\u001B[0;34m\u001B[0m\u001B[0;34m\u001B[0m\u001B[0m\n\u001B[0m\u001B[1;32m    291\u001B[0m         \u001B[0mflat_grad\u001B[0m \u001B[0;34m=\u001B[0m \u001B[0mself\u001B[0m\u001B[0;34m.\u001B[0m\u001B[0m_gather_flat_grad\u001B[0m\u001B[0;34m(\u001B[0m\u001B[0;34m)\u001B[0m\u001B[0;34m\u001B[0m\u001B[0;34m\u001B[0m\u001B[0m\n\u001B[1;32m    292\u001B[0m         \u001B[0mself\u001B[0m\u001B[0;34m.\u001B[0m\u001B[0m_set_param\u001B[0m\u001B[0;34m(\u001B[0m\u001B[0mx\u001B[0m\u001B[0;34m)\u001B[0m\u001B[0;34m\u001B[0m\u001B[0;34m\u001B[0m\u001B[0m\n",
      "\u001B[0;32m~/anaconda3/envs/mykan/lib/python3.7/site-packages/torch/autograd/grad_mode.py\u001B[0m in \u001B[0;36mdecorate_context\u001B[0;34m(*args, **kwargs)\u001B[0m\n\u001B[1;32m     25\u001B[0m         \u001B[0;32mdef\u001B[0m \u001B[0mdecorate_context\u001B[0m\u001B[0;34m(\u001B[0m\u001B[0;34m*\u001B[0m\u001B[0margs\u001B[0m\u001B[0;34m,\u001B[0m \u001B[0;34m**\u001B[0m\u001B[0mkwargs\u001B[0m\u001B[0;34m)\u001B[0m\u001B[0;34m:\u001B[0m\u001B[0;34m\u001B[0m\u001B[0;34m\u001B[0m\u001B[0m\n\u001B[1;32m     26\u001B[0m             \u001B[0;32mwith\u001B[0m \u001B[0mself\u001B[0m\u001B[0;34m.\u001B[0m\u001B[0mclone\u001B[0m\u001B[0;34m(\u001B[0m\u001B[0;34m)\u001B[0m\u001B[0;34m:\u001B[0m\u001B[0;34m\u001B[0m\u001B[0;34m\u001B[0m\u001B[0m\n\u001B[0;32m---> 27\u001B[0;31m                 \u001B[0;32mreturn\u001B[0m \u001B[0mfunc\u001B[0m\u001B[0;34m(\u001B[0m\u001B[0;34m*\u001B[0m\u001B[0margs\u001B[0m\u001B[0;34m,\u001B[0m \u001B[0;34m**\u001B[0m\u001B[0mkwargs\u001B[0m\u001B[0;34m)\u001B[0m\u001B[0;34m\u001B[0m\u001B[0;34m\u001B[0m\u001B[0m\n\u001B[0m\u001B[1;32m     28\u001B[0m         \u001B[0;32mreturn\u001B[0m \u001B[0mcast\u001B[0m\u001B[0;34m(\u001B[0m\u001B[0mF\u001B[0m\u001B[0;34m,\u001B[0m \u001B[0mdecorate_context\u001B[0m\u001B[0;34m)\u001B[0m\u001B[0;34m\u001B[0m\u001B[0;34m\u001B[0m\u001B[0m\n\u001B[1;32m     29\u001B[0m \u001B[0;34m\u001B[0m\u001B[0m\n",
      "\u001B[0;32m/tmp/pycharm_project_763/kan/MultKAN.py\u001B[0m in \u001B[0;36mclosure\u001B[0;34m()\u001B[0m\n\u001B[1;32m    853\u001B[0m             \u001B[0;32mglobal\u001B[0m \u001B[0mtrain_loss\u001B[0m\u001B[0;34m,\u001B[0m \u001B[0mreg_\u001B[0m\u001B[0;34m\u001B[0m\u001B[0;34m\u001B[0m\u001B[0m\n\u001B[1;32m    854\u001B[0m             \u001B[0moptimizer\u001B[0m\u001B[0;34m.\u001B[0m\u001B[0mzero_grad\u001B[0m\u001B[0;34m(\u001B[0m\u001B[0;34m)\u001B[0m\u001B[0;34m\u001B[0m\u001B[0;34m\u001B[0m\u001B[0m\n\u001B[0;32m--> 855\u001B[0;31m             \u001B[0mpred\u001B[0m \u001B[0;34m=\u001B[0m \u001B[0mself\u001B[0m\u001B[0;34m.\u001B[0m\u001B[0mforward\u001B[0m\u001B[0;34m(\u001B[0m\u001B[0mdataset\u001B[0m\u001B[0;34m[\u001B[0m\u001B[0;34m'train_input'\u001B[0m\u001B[0;34m]\u001B[0m\u001B[0;34m[\u001B[0m\u001B[0mtrain_id\u001B[0m\u001B[0;34m]\u001B[0m\u001B[0;34m.\u001B[0m\u001B[0mto\u001B[0m\u001B[0;34m(\u001B[0m\u001B[0mself\u001B[0m\u001B[0;34m.\u001B[0m\u001B[0mdevice\u001B[0m\u001B[0;34m)\u001B[0m\u001B[0;34m,\u001B[0m \u001B[0msingularity_avoiding\u001B[0m\u001B[0;34m=\u001B[0m\u001B[0msingularity_avoiding\u001B[0m\u001B[0;34m,\u001B[0m \u001B[0my_th\u001B[0m\u001B[0;34m=\u001B[0m\u001B[0my_th\u001B[0m\u001B[0;34m)\u001B[0m\u001B[0;34m\u001B[0m\u001B[0;34m\u001B[0m\u001B[0m\n\u001B[0m\u001B[1;32m    856\u001B[0m             \u001B[0mtrain_loss\u001B[0m \u001B[0;34m=\u001B[0m \u001B[0mloss_fn\u001B[0m\u001B[0;34m(\u001B[0m\u001B[0mpred\u001B[0m\u001B[0;34m,\u001B[0m \u001B[0mdataset\u001B[0m\u001B[0;34m[\u001B[0m\u001B[0;34m'train_label'\u001B[0m\u001B[0;34m]\u001B[0m\u001B[0;34m[\u001B[0m\u001B[0mtrain_id\u001B[0m\u001B[0;34m]\u001B[0m\u001B[0;34m.\u001B[0m\u001B[0mto\u001B[0m\u001B[0;34m(\u001B[0m\u001B[0mself\u001B[0m\u001B[0;34m.\u001B[0m\u001B[0mdevice\u001B[0m\u001B[0;34m)\u001B[0m\u001B[0;34m)\u001B[0m\u001B[0;34m\u001B[0m\u001B[0;34m\u001B[0m\u001B[0m\n\u001B[1;32m    857\u001B[0m             \u001B[0;32mif\u001B[0m \u001B[0mself\u001B[0m\u001B[0;34m.\u001B[0m\u001B[0msave_act\u001B[0m\u001B[0;34m:\u001B[0m\u001B[0;34m\u001B[0m\u001B[0;34m\u001B[0m\u001B[0m\n",
      "\u001B[0;32m/tmp/pycharm_project_763/kan/MultKAN.py\u001B[0m in \u001B[0;36mforward\u001B[0;34m(self, x, singularity_avoiding, y_th)\u001B[0m\n\u001B[1;32m    380\u001B[0m         \u001B[0;32mfor\u001B[0m \u001B[0ml\u001B[0m \u001B[0;32min\u001B[0m \u001B[0mrange\u001B[0m\u001B[0;34m(\u001B[0m\u001B[0mself\u001B[0m\u001B[0;34m.\u001B[0m\u001B[0mdepth\u001B[0m\u001B[0;34m)\u001B[0m\u001B[0;34m:\u001B[0m\u001B[0;34m\u001B[0m\u001B[0;34m\u001B[0m\u001B[0m\n\u001B[1;32m    381\u001B[0m \u001B[0;34m\u001B[0m\u001B[0m\n\u001B[0;32m--> 382\u001B[0;31m             \u001B[0mx_numerical\u001B[0m\u001B[0;34m,\u001B[0m \u001B[0mpreacts\u001B[0m\u001B[0;34m,\u001B[0m \u001B[0mpostacts_numerical\u001B[0m\u001B[0;34m,\u001B[0m \u001B[0mpostspline\u001B[0m \u001B[0;34m=\u001B[0m \u001B[0mself\u001B[0m\u001B[0;34m.\u001B[0m\u001B[0mact_fun\u001B[0m\u001B[0;34m[\u001B[0m\u001B[0ml\u001B[0m\u001B[0;34m]\u001B[0m\u001B[0;34m(\u001B[0m\u001B[0mx\u001B[0m\u001B[0;34m)\u001B[0m\u001B[0;34m\u001B[0m\u001B[0;34m\u001B[0m\u001B[0m\n\u001B[0m\u001B[1;32m    383\u001B[0m             \u001B[0;31m# print(preacts, postacts_numerical, postspline)\u001B[0m\u001B[0;34m\u001B[0m\u001B[0;34m\u001B[0m\u001B[0;34m\u001B[0m\u001B[0m\n\u001B[1;32m    384\u001B[0m \u001B[0;34m\u001B[0m\u001B[0m\n",
      "\u001B[0;32m~/anaconda3/envs/mykan/lib/python3.7/site-packages/torch/nn/modules/module.py\u001B[0m in \u001B[0;36m_call_impl\u001B[0;34m(self, *input, **kwargs)\u001B[0m\n\u001B[1;32m   1192\u001B[0m         if not (self._backward_hooks or self._forward_hooks or self._forward_pre_hooks or _global_backward_hooks\n\u001B[1;32m   1193\u001B[0m                 or _global_forward_hooks or _global_forward_pre_hooks):\n\u001B[0;32m-> 1194\u001B[0;31m             \u001B[0;32mreturn\u001B[0m \u001B[0mforward_call\u001B[0m\u001B[0;34m(\u001B[0m\u001B[0;34m*\u001B[0m\u001B[0minput\u001B[0m\u001B[0;34m,\u001B[0m \u001B[0;34m**\u001B[0m\u001B[0mkwargs\u001B[0m\u001B[0;34m)\u001B[0m\u001B[0;34m\u001B[0m\u001B[0;34m\u001B[0m\u001B[0m\n\u001B[0m\u001B[1;32m   1195\u001B[0m         \u001B[0;31m# Do not call functions when jit is used\u001B[0m\u001B[0;34m\u001B[0m\u001B[0;34m\u001B[0m\u001B[0;34m\u001B[0m\u001B[0m\n\u001B[1;32m   1196\u001B[0m         \u001B[0mfull_backward_hooks\u001B[0m\u001B[0;34m,\u001B[0m \u001B[0mnon_full_backward_hooks\u001B[0m \u001B[0;34m=\u001B[0m \u001B[0;34m[\u001B[0m\u001B[0;34m]\u001B[0m\u001B[0;34m,\u001B[0m \u001B[0;34m[\u001B[0m\u001B[0;34m]\u001B[0m\u001B[0;34m\u001B[0m\u001B[0;34m\u001B[0m\u001B[0m\n",
      "\u001B[0;32m/tmp/pycharm_project_763/kan/KANLayer.py\u001B[0m in \u001B[0;36mforward\u001B[0;34m(self, x)\u001B[0m\n\u001B[1;32m    182\u001B[0m \u001B[0;34m\u001B[0m\u001B[0m\n\u001B[1;32m    183\u001B[0m         \u001B[0mbase\u001B[0m \u001B[0;34m=\u001B[0m \u001B[0mself\u001B[0m\u001B[0;34m.\u001B[0m\u001B[0mbase_fun\u001B[0m\u001B[0;34m(\u001B[0m\u001B[0mx\u001B[0m\u001B[0;34m)\u001B[0m \u001B[0;31m# (batch, in_dim)\u001B[0m\u001B[0;34m\u001B[0m\u001B[0;34m\u001B[0m\u001B[0m\n\u001B[0;32m--> 184\u001B[0;31m         \u001B[0my\u001B[0m \u001B[0;34m=\u001B[0m \u001B[0mcoef2curve\u001B[0m\u001B[0;34m(\u001B[0m\u001B[0mx_eval\u001B[0m\u001B[0;34m=\u001B[0m\u001B[0mx\u001B[0m\u001B[0;34m,\u001B[0m \u001B[0mgrid\u001B[0m\u001B[0;34m=\u001B[0m\u001B[0mself\u001B[0m\u001B[0;34m.\u001B[0m\u001B[0mgrid\u001B[0m\u001B[0;34m,\u001B[0m \u001B[0mcoef\u001B[0m\u001B[0;34m=\u001B[0m\u001B[0mself\u001B[0m\u001B[0;34m.\u001B[0m\u001B[0mcoef\u001B[0m\u001B[0;34m,\u001B[0m \u001B[0mk\u001B[0m\u001B[0;34m=\u001B[0m\u001B[0mself\u001B[0m\u001B[0;34m.\u001B[0m\u001B[0mk\u001B[0m\u001B[0;34m,\u001B[0m \u001B[0mdevice\u001B[0m\u001B[0;34m=\u001B[0m\u001B[0mself\u001B[0m\u001B[0;34m.\u001B[0m\u001B[0mdevice\u001B[0m\u001B[0;34m)\u001B[0m  \u001B[0;31m# y shape: (batch, in_dim, out_dim)\u001B[0m\u001B[0;34m\u001B[0m\u001B[0;34m\u001B[0m\u001B[0m\n\u001B[0m\u001B[1;32m    185\u001B[0m \u001B[0;34m\u001B[0m\u001B[0m\n\u001B[1;32m    186\u001B[0m         \u001B[0mpostspline\u001B[0m \u001B[0;34m=\u001B[0m \u001B[0my\u001B[0m\u001B[0;34m.\u001B[0m\u001B[0mclone\u001B[0m\u001B[0;34m(\u001B[0m\u001B[0;34m)\u001B[0m\u001B[0;34m.\u001B[0m\u001B[0mpermute\u001B[0m\u001B[0;34m(\u001B[0m\u001B[0;36m0\u001B[0m\u001B[0;34m,\u001B[0m\u001B[0;36m2\u001B[0m\u001B[0;34m,\u001B[0m\u001B[0;36m1\u001B[0m\u001B[0;34m)\u001B[0m \u001B[0;31m# postspline shape: (batch, out_dim, in_dim)\u001B[0m\u001B[0;34m\u001B[0m\u001B[0;34m\u001B[0m\u001B[0m\n",
      "\u001B[0;32m/tmp/pycharm_project_763/kan/spline.py\u001B[0m in \u001B[0;36mcoef2curve\u001B[0;34m(x_eval, grid, coef, k, device)\u001B[0m\n\u001B[1;32m    118\u001B[0m     y_eval = torch.einsum('ij,ijk->ik', coef, B_batch(x_eval, grid, k, device=device))'''\n\u001B[1;32m    119\u001B[0m \u001B[0;34m\u001B[0m\u001B[0m\n\u001B[0;32m--> 120\u001B[0;31m     \u001B[0mb_splines\u001B[0m \u001B[0;34m=\u001B[0m \u001B[0mB_batch\u001B[0m\u001B[0;34m(\u001B[0m\u001B[0mx_eval\u001B[0m\u001B[0;34m,\u001B[0m \u001B[0mgrid\u001B[0m\u001B[0;34m,\u001B[0m \u001B[0mk\u001B[0m\u001B[0;34m=\u001B[0m\u001B[0mk\u001B[0m\u001B[0;34m)\u001B[0m\u001B[0;34m.\u001B[0m\u001B[0mto\u001B[0m\u001B[0;34m(\u001B[0m\u001B[0mdevice\u001B[0m\u001B[0;34m)\u001B[0m \u001B[0;31m# (batch, in_dim, n_coef)\u001B[0m\u001B[0;34m\u001B[0m\u001B[0;34m\u001B[0m\u001B[0m\n\u001B[0m\u001B[1;32m    121\u001B[0m     \u001B[0;31m# coef (in_dim, out_dim, n_coef)\u001B[0m\u001B[0;34m\u001B[0m\u001B[0;34m\u001B[0m\u001B[0;34m\u001B[0m\u001B[0m\n\u001B[1;32m    122\u001B[0m     \u001B[0;31m#print(b_splines.shape, coef.shape)\u001B[0m\u001B[0;34m\u001B[0m\u001B[0;34m\u001B[0m\u001B[0;34m\u001B[0m\u001B[0m\n",
      "\u001B[0;32m/tmp/pycharm_project_763/kan/spline.py\u001B[0m in \u001B[0;36mB_batch\u001B[0;34m(x, grid, k, extend, device)\u001B[0m\n\u001B[1;32m     70\u001B[0m \u001B[0;34m\u001B[0m\u001B[0m\n\u001B[1;32m     71\u001B[0m         value = (x - grid[:, :, :-(k + 1)]) / (grid[:, :, k:-1] - grid[:, :, :-(k + 1)]) * B_km1[:, :, :-1] + (\n\u001B[0;32m---> 72\u001B[0;31m                     grid[:, :, k + 1:] - x) / (grid[:, :, k + 1:] - grid[:, :, 1:(-k)]) * B_km1[:, :, 1:]\n\u001B[0m\u001B[1;32m     73\u001B[0m \u001B[0;34m\u001B[0m\u001B[0m\n\u001B[1;32m     74\u001B[0m     \u001B[0;31m# in case grid is degenerate\u001B[0m\u001B[0;34m\u001B[0m\u001B[0;34m\u001B[0m\u001B[0;34m\u001B[0m\u001B[0m\n",
      "\u001B[0;31mKeyboardInterrupt\u001B[0m: "
     ]
    }
   ]
  },
  {
   "cell_type": "code",
   "execution_count": null,
   "outputs": [],
   "source": [],
   "metadata": {
    "collapsed": false
   }
  },
  {
   "cell_type": "code",
   "source": [
    "print(results['train_mse'][-1], results['test_mse'][-1])"
   ],
   "metadata": {
    "colab": {
     "base_uri": "https://localhost:8080/"
    },
    "id": "J8hG6q3zujPG",
    "outputId": "2a99f4b0-896f-47b2-a980-cdfb6a314f11",
    "ExecuteTime": {
     "end_time": "2024-10-01T08:13:54.742402Z",
     "start_time": "2024-10-01T08:13:54.698235Z"
    }
   },
   "execution_count": 18,
   "outputs": [
    {
     "name": "stdout",
     "output_type": "stream",
     "text": [
      "0.3333931863307953 0.4104647934436798\n"
     ]
    }
   ]
  },
  {
   "cell_type": "code",
   "execution_count": 23,
   "outputs": [],
   "source": [
    "dataset = {}\n",
    "dataset = {\n",
    "    'train_input': X_train,\n",
    "    'test_input': X_test,\n",
    "    'train_label': y_train,\n",
    "    'test_label': y_test\n",
    "}"
   ],
   "metadata": {
    "collapsed": false,
    "ExecuteTime": {
     "end_time": "2024-09-27T05:45:17.667583Z",
     "start_time": "2024-09-27T05:45:17.624006Z"
    }
   }
  },
  {
   "cell_type": "code",
   "execution_count": 26,
   "outputs": [
    {
     "name": "stdout",
     "output_type": "stream",
     "text": [
      "fixing (0,0,0) with x, r2=0.9701958894729614, c=1\n",
      "fixing (0,0,1) with x, r2=0.02018558233976364, c=1\n",
      "fixing (0,0,2) with sin, r2=0.950676679611206, c=2\n",
      "fixing (0,1,0) with x, r2=0.31253695487976074, c=1\n",
      "fixing (0,1,1) with x, r2=0.0056555685587227345, c=1\n",
      "fixing (0,1,2) with x, r2=0.1284223347902298, c=1\n",
      "fixing (0,2,0) with x, r2=0.305318146944046, c=1\n",
      "fixing (0,2,1) with x, r2=0.05831388011574745, c=1\n",
      "fixing (0,2,2) with x, r2=0.22087359428405762, c=1\n",
      "fixing (0,3,0) with sin, r2=0.9871118068695068, c=2\n",
      "fixing (0,3,1) with x, r2=0.30648285150527954, c=1\n",
      "fixing (0,3,2) with x, r2=0.12289800494909286, c=1\n",
      "fixing (0,4,0) with x, r2=0.20046769082546234, c=1\n",
      "fixing (0,4,1) with x, r2=0.09843405336141586, c=1\n",
      "fixing (0,4,2) with x, r2=0.24399933218955994, c=1\n",
      "fixing (0,5,0) with sin, r2=0.9999473690986633, c=2\n",
      "fixing (0,5,1) with x, r2=0.9954555034637451, c=1\n",
      "fixing (0,5,2) with sin, r2=0.9985089302062988, c=2\n",
      "fixing (0,6,0) with x, r2=0.9701145887374878, c=1\n",
      "fixing (0,6,1) with x, r2=0.0827081948518753, c=1\n",
      "fixing (0,6,2) with x, r2=0.047411441802978516, c=1\n",
      "fixing (0,7,0) with x, r2=0.933258056640625, c=1\n",
      "fixing (0,7,1) with x, r2=0.006365256384015083, c=1\n",
      "fixing (0,7,2) with x, r2=0.10369185358285904, c=1\n",
      "fixing (1,0,0) with sin, r2=0.9999995827674866, c=2\n",
      "fixing (1,1,0) with x, r2=0.279487669467926, c=1\n",
      "fixing (1,2,0) with x, r2=0.01849456876516342, c=1\n",
      "saving model version 0.2\n"
     ]
    },
    {
     "data": {
      "text/plain": "-9.06515762862036e-6*x_1 + 0.000444207359627205*x_2 + 0.000734525024225266*x_3 - 5.84481650045848e-5*x_4 + 0.000360067464324295*x_5 - 0.00300913880680484*x_6 - 0.00507590260727532*x_7 - 0.00813831236641747*x_8 - 0.0446092918079142*sin(0.310719847679138*x_1 - 8.13400077819824) + 0.00433778800363338*sin(0.403440117835999*x_6 - 9.01368045806885) - 18.8422355651855*sin(-0.0435546795625198*x_1 - 0.00317614046359467*x_2 - 0.00191812035500285*x_3 - 0.000170724465231767*x_5 + 0.0580596974175008*x_7 + 0.0519632948473109*x_8 + 0.0332801476917175*sin(0.428880155086517*x_4 + 3.07616019248962) + 0.663352574024422*sin(0.219680145382881*x_6 - 0.821359872817993) + 1.10660043514323) + 13.0054501913008",
      "text/latex": "$\\displaystyle - 9.06515762862036 \\cdot 10^{-6} x_{1} + 0.000444207359627205 x_{2} + 0.000734525024225266 x_{3} - 5.84481650045848 \\cdot 10^{-5} x_{4} + 0.000360067464324295 x_{5} - 0.00300913880680484 x_{6} - 0.00507590260727532 x_{7} - 0.00813831236641747 x_{8} - 0.0446092918079142 \\sin{\\left(0.310719847679138 x_{1} - 8.13400077819824 \\right)} + 0.00433778800363338 \\sin{\\left(0.403440117835999 x_{6} - 9.01368045806885 \\right)} - 18.8422355651855 \\sin{\\left(- 0.0435546795625198 x_{1} - 0.00317614046359467 x_{2} - 0.00191812035500285 x_{3} - 0.000170724465231767 x_{5} + 0.0580596974175008 x_{7} + 0.0519632948473109 x_{8} + 0.0332801476917175 \\sin{\\left(0.428880155086517 x_{4} + 3.07616019248962 \\right)} + 0.663352574024422 \\sin{\\left(0.219680145382881 x_{6} - 0.821359872817993 \\right)} + 1.10660043514323 \\right)} + 13.0054501913008$"
     },
     "execution_count": 26,
     "metadata": {},
     "output_type": "execute_result"
    }
   ],
   "source": [
    "lib = ['x','x^2','x^3','x^4','x^5','exp','log','sqrt','tanh','sin','tan','abs']\n",
    "model.auto_symbolic(lib=lib)\n",
    "formula = model.symbolic_formula()[0][0]\n",
    "formula"
   ],
   "metadata": {
    "collapsed": false,
    "ExecuteTime": {
     "end_time": "2024-09-27T05:52:59.248595Z",
     "start_time": "2024-09-27T05:48:58.827504Z"
    }
   }
  },
  {
   "cell_type": "code",
   "execution_count": 27,
   "outputs": [
    {
     "data": {
      "text/plain": "<Figure size 1500x500 with 1 Axes>",
      "image/png": "[encoded data removed]"
     },
     "metadata": {},
     "output_type": "display_data"
    }
   ],
   "source": [
    "import seaborn as sns  # 定义部分依赖函数\n",
    "\n",
    "\n",
    "def partial_dependence(feature_idx, feature_values, formula, dataset):\n",
    "    predictions = []\n",
    "    for value in feature_values:\n",
    "        subs_dict = {\n",
    "            'x_{}'.format(i + 1): value if i == feature_idx else dataset['test_input'][0, i]\n",
    "            for i in range(dataset['test_input'].shape[1])\n",
    "        }\n",
    "        predict = float(formula.subs(subs_dict))\n",
    "        predictions.append(predict)\n",
    "    return np.array(predictions)\n",
    "\n",
    "\n",
    "# dataset 是你的数据集，formula 是你的模型公式\n",
    "# 选择要绘制部分依赖图的特征索引和范围\n",
    "feature_index_pdp = 0  # 假设选择第一个特征进行 PDP\n",
    "feature_values_pdp = np.linspace(min(dataset['test_input'][:, feature_index_pdp]), max(dataset['test_input'][:, feature_index_pdp]), num=50)\n",
    "# 计算部分依赖\n",
    "predictions_pdp = partial_dependence(feature_index_pdp, feature_values_pdp, formula, dataset)\n",
    "# 绘制部分依赖图（PDP）# 设置Seaborn样式\n",
    "sns.set(style=\"whitegrid\")\n",
    "plt.figure(figsize=(15, 5))\n",
    "plt.plot(feature_values_pdp, predictions_pdp, marker='o', linestyle='-', color='b', linewidth=2, markersize=6)  # 添加标题和轴标签，并设置字体大小\n",
    "plt.title('Partial Dependence Plot (PDP) for Feature {}'.format(feature_index_pdp), fontsize=16)\n",
    "plt.xlabel('Feature Value', fontsize=14)\n",
    "plt.ylabel('Average Prediction', fontsize=14)\n",
    "plt.xticks(fontsize=12)\n",
    "plt.yticks(fontsize=12)\n",
    "plt.grid(True, linestyle='--', alpha=0.7)\n",
    "# 添加背景和框架\n",
    "sns.despine(left=True, bottom=True)\n",
    "plt.show()"
   ],
   "metadata": {
    "collapsed": false,
    "ExecuteTime": {
     "end_time": "2024-09-27T05:55:12.537880Z",
     "start_time": "2024-09-27T05:54:58.089580Z"
    }
   }
  },
  {
   "cell_type": "code",
   "execution_count": null,
   "outputs": [],
   "source": [
    "\n",
    "\n",
    "\n",
    "def ice(feature_idx, feature_values, formula, dataset):\n",
    "    ice_predictions = []\n",
    "    for i in range(dataset['test_input'].shape[0]):\n",
    "        individual_predictions = []\n",
    "        for value in feature_values:\n",
    "            subs_dict = {\n",
    "                'x_{}'.format(j + 1): value if j == feature_idx else dataset['test_input'][i, j]\n",
    "                for j in range(dataset['test_input'].shape[1])\n",
    "            }\n",
    "            predict = float(formula.subs(subs_dict))\n",
    "            individual_predictions.append(predict)\n",
    "            ice_predictions.append(individual_predictions)\n",
    "    return np.array(ice_predictions)\n",
    "\n",
    "\n",
    "# 选择要绘制个体条件期望（ICE）的特征索引和范围\n",
    "feature_index_ice = 0  # 假设选择第一个特征进行 ICE\n",
    "feature_values_ice = np.linspace(min(dataset['test_input'][:, feature_index_ice]), max(dataset['test_input'][:, feature_index_ice]), num=10)\n",
    "\n",
    "# 计算个体条件期望（ICE）\n",
    "ice_predictions = ice(feature_index_ice, feature_values_ice, formula, dataset)\n",
    "# 绘制个体条件期望（ICE）图\n",
    "# \n",
    "plt.figure(figsize=(15, 5))\n",
    "for i in range(len(ice_predictions)):\n",
    "    plt.plot(feature_values_ice, ice_predictions[i], color='grey', alpha=0.2)\n",
    "    plt.xlabel('Feature Value')\n",
    "    plt.ylabel('Prediction')\n",
    "    plt.title('Individual Conditional Expectation (ICE) Plot for Feature {}'.format(feature_index_ice))\n",
    "    plt.grid(True)\n",
    "    plt.show()\n",
    "from mpl_toolkits.mplot3d import Axes3D  # 定义二维部分依赖函数\n",
    "\n",
    "\n"
   ],
   "metadata": {
    "collapsed": false,
    "ExecuteTime": {
     "start_time": "2024-09-27T05:55:17.954842Z"
    }
   }
  },
  {
   "cell_type": "code",
   "execution_count": null,
   "outputs": [],
   "source": [
    "def partial_dependence_2d(feature_idx1, feature_idx2, feature_values1, feature_values2, formula, dataset):\n",
    "    predictions = np.zeros((len(feature_values1), len(feature_values2)))\n",
    "    for i, value1 in enumerate(feature_values1):\n",
    "        for j, value2 in enumerate(feature_values2):\n",
    "            subs_dict = {\n",
    "                'x_{}'.format(k + 1): value1 if k == feature_idx1 else value2 if k == feature_idx2 else dataset['test_input'][0, k]\n",
    "                for k in range(dataset['test_input'].shape[1])\n",
    "            }\n",
    "            predict = float(formula.subs(subs_dict))\n",
    "            predictions[i, j] = predict\n",
    "    return predictions  # 选择要绘制二维部分依赖图的特征索引和范围\n",
    "\n",
    "\n"
   ],
   "metadata": {
    "collapsed": false
   }
  },
  {
   "cell_type": "code",
   "execution_count": null,
   "outputs": [],
   "source": [
    "feature_index1 = 0  # 第一个特征索引\n",
    "feature_index2 = 1  # 第二个特征索引\n",
    "feature_values1 = np.linspace(min(dataset['test_input'][:, feature_index1]), max(dataset['test_input'][:, feature_index1]), num=10)\n",
    "feature_values2 = np.linspace(min(dataset['test_input'][:, feature_index2]), max(dataset['test_input'][:, feature_index2]), num=10)  # 计算二维部分依赖\n",
    "predictions_2d_pdp = partial_dependence_2d(feature_index1, feature_index2, feature_values1, feature_values2, formula, dataset)  # 绘制二维部分依赖图（2D PDP）\n",
    "sns.set(style=\"whitegrid\")\n",
    "fig = plt.figure(figsize=(14, 10))\n",
    "ax = fig.add_subplot(111, projection='3d')  # 创建网格\n",
    "X, Y = np.meshgrid(feature_values1, feature_values2)\n",
    "surf = ax.plot_surface(X, Y, predictions_2d_pdp, cmap='viridis', edgecolor='k', linewidth=0.5, alpha=0.9)\n",
    "fig.colorbar(surf, ax=ax, shrink=0.5, aspect=5, pad=0.1)\n",
    "ax.set_xlabel('Feature {}'.format(feature_index1), fontsize=14, labelpad=10)\n",
    "ax.set_ylabel('Feature {}'.format(feature_index2), fontsize=14, labelpad=10)\n",
    "ax.set_zlabel('Average Prediction', fontsize=14, labelpad=10)\n",
    "ax.set_title('2D Partial Dependence Plot (PDP) for Features {} and {}'.format(feature_index1, feature_index2), fontsize=16, pad=20)\n",
    "ax.tick_params(axis='both', which='major', labelsize=12)  # 设置视角\n",
    "ax.view_init(elev=60, azim=120)\n",
    "plt.tight_layout()\n",
    "plt.show()\n"
   ],
   "metadata": {
    "collapsed": false
   }
  },
  {
   "cell_type": "code",
   "execution_count": null,
   "outputs": [],
   "source": [],
   "metadata": {
    "collapsed": false
   }
  },
  {
   "cell_type": "code",
   "source": [
    "model.plot(beta=50, scale=1, out_vars=['House Price'])"
   ],
   "metadata": {
    "colab": {
     "base_uri": "https://localhost:8080/",
     "height": 721
    },
    "id": "ll0aE1WW9FEK",
    "outputId": "ad5f27d7-a28b-4dde-9feb-e7ad93a1510b",
    "ExecuteTime": {
     "end_time": "2024-09-26T08:21:37.972930Z",
     "start_time": "2024-09-26T08:21:33.604951Z"
    }
   },
   "execution_count": 14,
   "outputs": [
    {
     "name": "stdout",
     "output_type": "stream",
     "text": [
      "l: 2\n",
      "Length of self.edge_actscale: 2\n",
      "Length of self.subnode_actscale: 2\n",
      "l: 1\n",
      "Length of self.edge_actscale: 2\n",
      "Length of self.subnode_actscale: 2\n"
     ]
    },
    {
     "data": {
      "text/plain": "<Figure size 1000x800 with 32 Axes>",
      "image/png": "[encoded data removed]"
     },
     "metadata": {},
     "output_type": "display_data"
    }
   ]
  },
  {
   "cell_type": "code",
   "source": [
    "import moviepy.video.io.ImageSequenceClip\n",
    "\n",
    "video_name='video'\n",
    "fps=10\n",
    "\n",
    "fps = fps\n",
    "files = os.listdir(image_folder)\n",
    "train_index = []\n",
    "for file in files:\n",
    "    if file[0].isdigit() and file.endswith('.jpg'):\n",
    "        train_index.append(int(file[:-4]))\n",
    "\n",
    "train_index = np.sort(train_index)\n",
    "\n",
    "image_files = [image_folder+'/'+str(train_index[index])+'.jpg' for index in train_index]\n",
    "\n",
    "clip = moviepy.video.io.ImageSequenceClip.ImageSequenceClip(image_files, fps=fps)\n",
    "clip.write_videofile(video_name+'.mp4')"
   ],
   "metadata": {
    "colab": {
     "base_uri": "https://localhost:8080/"
    },
    "id": "yPbmkBTBNSDe",
    "outputId": "dc4c7c69-c45a-4b56-d086-59b0a2f102f9",
    "ExecuteTime": {
     "end_time": "2024-09-26T08:21:43.989241Z",
     "start_time": "2024-09-26T08:21:42.615222Z"
    }
   },
   "execution_count": 15,
   "outputs": [
    {
     "name": "stdout",
     "output_type": "stream",
     "text": [
      "Moviepy - Building video video.mp4.\n",
      "Moviepy - Writing video video.mp4\n"
     ]
    },
    {
     "name": "stderr",
     "output_type": "stream",
     "text": [
      "                                                            \r"
     ]
    },
    {
     "name": "stdout",
     "output_type": "stream",
     "text": [
      "Moviepy - Done !\n",
      "Moviepy - video ready video.mp4\n"
     ]
    }
   ]
  },
  {
   "cell_type": "markdown",
   "source": [
    "# Implementation of a Neural Network for comparison"
   ],
   "metadata": {
    "id": "CBD58aME1Rvd"
   }
  },
  {
   "cell_type": "markdown",
   "source": [
    "## Misc Functions"
   ],
   "metadata": {
    "id": "ZeOsPZiB9MSS"
   }
  },
  {
   "cell_type": "code",
   "source": [
    "class CalHousNet(nn.Module):\n",
    "    def __init__(self):\n",
    "        super(CalHousNet, self).__init__()\n",
    "        self.fc1 = nn.Linear(8, 3)  # 8 inputs to 5 hidden nodes\n",
    "        self.relu = nn.ReLU()\n",
    "        self.fc2 = nn.Linear(3, 1)  # 5 hidden nodes to 3 outputs\n",
    "\n",
    "    def forward(self, x):\n",
    "        x = self.fc1(x)\n",
    "        x = self.relu(x)\n",
    "        x = self.fc2(x)\n",
    "        return x\n",
    "\n",
    "def train_model(model, train_loader, criterion, optimizer, num_epochs=100):\n",
    "    model.train()\n",
    "    for epoch in range(num_epochs):\n",
    "        for inputs, labels in train_loader:\n",
    "            inputs, labels = inputs.to(device), labels.to(device)  # Move data to the specified device\n",
    "            optimizer.zero_grad()\n",
    "            outputs = model(inputs)\n",
    "            loss = criterion(outputs, labels)\n",
    "            loss.backward()\n",
    "            optimizer.step()\n",
    "        print(f'Epoch {epoch+1}, Loss: {loss.item()}')\n",
    "\n",
    "def test_model(model, test_loader):\n",
    "    model.eval()\n",
    "    total_loss = 0.0\n",
    "    total_count = 0\n",
    "    with torch.no_grad():\n",
    "        for inputs, labels in test_loader:\n",
    "            inputs, labels = inputs.to(device), labels.to(device)  # Move data to the specified device\n",
    "            outputs = model(inputs)\n",
    "            loss = torch.nn.functional.mse_loss(outputs, labels, reduction='sum')\n",
    "            total_loss += loss.item()\n",
    "            total_count += labels.size(0)\n",
    "\n",
    "    # Calculate the average MSE over all batches\n",
    "    average_mse = total_loss / total_count\n",
    "    print(f'Mean Squared Error: {average_mse}')"
   ],
   "metadata": {
    "id": "WxOUQTTiuAja",
    "ExecuteTime": {
     "end_time": "2024-09-26T08:21:49.227476Z",
     "start_time": "2024-09-26T08:21:49.224029Z"
    }
   },
   "execution_count": 16,
   "outputs": []
  },
  {
   "cell_type": "code",
   "source": [
    "def load_calhous_dataset():\n",
    "    # Load California housing dataset\n",
    "    calhous = fetch_california_housing()\n",
    "    data = calhous.data\n",
    "    target = calhous.target\n",
    "\n",
    "    scaler = StandardScaler()\n",
    "    data = scaler.fit_transform(data)\n",
    "\n",
    "    # Convert to PyTorch tensors\n",
    "    data_tensor = torch.tensor(data, dtype=torch.float32)\n",
    "    target_tensor = torch.tensor(target, dtype=torch.float32).reshape(-1, 1)\n",
    "\n",
    "    # Split dataset into train and test sets\n",
    "    train_data, test_data, train_target, test_target = train_test_split(data_tensor, target_tensor, test_size=0.2, random_state=42)\n",
    "\n",
    "    # Create data loaders (optional, if you want to batch and shuffle the data)\n",
    "    train_loader = torch.utils.data.DataLoader(torch.utils.data.TensorDataset(train_data, train_target), batch_size=256, shuffle=True)\n",
    "    test_loader = torch.utils.data.DataLoader(torch.utils.data.TensorDataset(test_data, test_target), batch_size=256, shuffle=False)\n",
    "\n",
    "    return train_loader, test_loader\n",
    "\n",
    "train_loader, test_loader = load_calhous_dataset()"
   ],
   "metadata": {
    "id": "B-99o3TR1uN1",
    "ExecuteTime": {
     "end_time": "2024-09-26T08:21:56.491730Z",
     "start_time": "2024-09-26T08:21:56.415869Z"
    }
   },
   "execution_count": 17,
   "outputs": []
  },
  {
   "cell_type": "code",
   "source": [
    "dataiter = iter(train_loader)\n",
    "data, labels = next(dataiter)\n",
    "print(\"Train data shape: {}\".format(data.shape))\n",
    "print(\"Train target shape: {}\".format(labels.shape))\n",
    "dataiter = iter(test_loader)\n",
    "data, labels = next(dataiter)\n",
    "print(\"Test data shape: {}\".format(data.shape))\n",
    "print(\"Test target shape: {}\".format(labels.shape))\n",
    "print(\"====================================\")"
   ],
   "metadata": {
    "id": "FJYeBGm9vj28",
    "ExecuteTime": {
     "end_time": "2024-09-26T08:21:57.370992Z",
     "start_time": "2024-09-26T08:21:57.359001Z"
    }
   },
   "execution_count": 18,
   "outputs": [
    {
     "name": "stdout",
     "output_type": "stream",
     "text": [
      "Train data shape: torch.Size([256, 8])\n",
      "Train target shape: torch.Size([256, 1])\n",
      "Test data shape: torch.Size([256, 8])\n",
      "Test target shape: torch.Size([256, 1])\n",
      "====================================\n"
     ]
    }
   ]
  },
  {
   "cell_type": "markdown",
   "source": [
    "## Train and Evaluate the NN"
   ],
   "metadata": {
    "id": "Hg219SyH9NrO"
   }
  },
  {
   "cell_type": "code",
   "source": [
    "model = CalHousNet().to(device)\n",
    "criterion = torch.nn.MSELoss()\n",
    "optimizer = torch.optim.Adam(model.parameters(), lr=0.05)\n",
    "\n",
    "train_model(model, train_loader, criterion, optimizer)"
   ],
   "metadata": {
    "id": "DbsyfVGd1cX1",
    "ExecuteTime": {
     "end_time": "2024-09-26T08:23:46.362618Z",
     "start_time": "2024-09-26T08:22:01.604919Z"
    }
   },
   "execution_count": 19,
   "outputs": [
    {
     "name": "stdout",
     "output_type": "stream",
     "text": [
      "Epoch 1, Loss: 0.663138747215271\n",
      "Epoch 2, Loss: 0.5634834170341492\n",
      "Epoch 3, Loss: 0.48642945289611816\n",
      "Epoch 4, Loss: 0.5768334865570068\n",
      "Epoch 5, Loss: 0.46041715145111084\n",
      "Epoch 6, Loss: 0.4934207797050476\n",
      "Epoch 7, Loss: 0.49088963866233826\n",
      "Epoch 8, Loss: 0.4052965044975281\n",
      "Epoch 9, Loss: 0.3753213584423065\n",
      "Epoch 10, Loss: 0.352811336517334\n",
      "Epoch 11, Loss: 0.33598458766937256\n",
      "Epoch 12, Loss: 0.49341753125190735\n",
      "Epoch 13, Loss: 0.43929874897003174\n",
      "Epoch 14, Loss: 0.2958683371543884\n",
      "Epoch 15, Loss: 0.36147597432136536\n",
      "Epoch 16, Loss: 0.3828045129776001\n",
      "Epoch 17, Loss: 0.4127296805381775\n",
      "Epoch 18, Loss: 0.37331241369247437\n",
      "Epoch 19, Loss: 0.42638617753982544\n",
      "Epoch 20, Loss: 0.32877928018569946\n",
      "Epoch 21, Loss: 0.3330456018447876\n",
      "Epoch 22, Loss: 0.33134469389915466\n",
      "Epoch 23, Loss: 0.6187007427215576\n",
      "Epoch 24, Loss: 0.3003910183906555\n",
      "Epoch 25, Loss: 0.31181198358535767\n",
      "Epoch 26, Loss: 0.4034554660320282\n",
      "Epoch 27, Loss: 0.4532017111778259\n",
      "Epoch 28, Loss: 0.33217868208885193\n",
      "Epoch 29, Loss: 0.4625093638896942\n",
      "Epoch 30, Loss: 0.434161901473999\n",
      "Epoch 31, Loss: 0.510236918926239\n",
      "Epoch 32, Loss: 0.3873201012611389\n",
      "Epoch 33, Loss: 0.4698277413845062\n",
      "Epoch 34, Loss: 0.31268659234046936\n",
      "Epoch 35, Loss: 0.2686173915863037\n",
      "Epoch 36, Loss: 0.409525603055954\n",
      "Epoch 37, Loss: 0.36505821347236633\n",
      "Epoch 38, Loss: 0.36566871404647827\n",
      "Epoch 39, Loss: 0.41913843154907227\n",
      "Epoch 40, Loss: 0.48516252636909485\n",
      "Epoch 41, Loss: 0.2938932180404663\n",
      "Epoch 42, Loss: 0.46249645948410034\n",
      "Epoch 43, Loss: 0.3243911862373352\n",
      "Epoch 44, Loss: 0.42292797565460205\n",
      "Epoch 45, Loss: 0.2844017744064331\n",
      "Epoch 46, Loss: 0.5611716508865356\n",
      "Epoch 47, Loss: 0.39830994606018066\n",
      "Epoch 48, Loss: 0.42092713713645935\n",
      "Epoch 49, Loss: 0.29712286591529846\n",
      "Epoch 50, Loss: 0.2157878875732422\n",
      "Epoch 51, Loss: 0.37909218668937683\n",
      "Epoch 52, Loss: 0.37172141671180725\n",
      "Epoch 53, Loss: 0.33849647641181946\n",
      "Epoch 54, Loss: 0.33856964111328125\n",
      "Epoch 55, Loss: 0.530278205871582\n",
      "Epoch 56, Loss: 0.3807169795036316\n",
      "Epoch 57, Loss: 0.4377533793449402\n",
      "Epoch 58, Loss: 0.3233377933502197\n",
      "Epoch 59, Loss: 0.401256799697876\n",
      "Epoch 60, Loss: 0.5807701349258423\n",
      "Epoch 61, Loss: 0.32801762223243713\n",
      "Epoch 62, Loss: 0.25355765223503113\n",
      "Epoch 63, Loss: 0.26494941115379333\n",
      "Epoch 64, Loss: 0.4225497841835022\n",
      "Epoch 65, Loss: 0.4234640896320343\n",
      "Epoch 66, Loss: 0.44261372089385986\n",
      "Epoch 67, Loss: 0.22461876273155212\n",
      "Epoch 68, Loss: 0.4128442108631134\n",
      "Epoch 69, Loss: 0.41065049171447754\n",
      "Epoch 70, Loss: 0.3967269957065582\n",
      "Epoch 71, Loss: 0.3917866349220276\n",
      "Epoch 72, Loss: 0.38052937388420105\n",
      "Epoch 73, Loss: 0.406080961227417\n",
      "Epoch 74, Loss: 0.38713252544403076\n",
      "Epoch 75, Loss: 0.4484657049179077\n",
      "Epoch 76, Loss: 0.517397403717041\n",
      "Epoch 77, Loss: 0.3913814425468445\n",
      "Epoch 78, Loss: 0.4744018018245697\n",
      "Epoch 79, Loss: 0.2922554016113281\n",
      "Epoch 80, Loss: 0.315824419260025\n",
      "Epoch 81, Loss: 0.3430611789226532\n",
      "Epoch 82, Loss: 0.3636940121650696\n",
      "Epoch 83, Loss: 0.3328836262226105\n",
      "Epoch 84, Loss: 0.36100566387176514\n",
      "Epoch 85, Loss: 0.24262472987174988\n",
      "Epoch 86, Loss: 0.40414372086524963\n",
      "Epoch 87, Loss: 0.28904616832733154\n",
      "Epoch 88, Loss: 0.42535096406936646\n",
      "Epoch 89, Loss: 0.6139429807662964\n",
      "Epoch 90, Loss: 0.2629983425140381\n",
      "Epoch 91, Loss: 0.33589649200439453\n",
      "Epoch 92, Loss: 0.39082562923431396\n",
      "Epoch 93, Loss: 0.48396822810173035\n",
      "Epoch 94, Loss: 0.25324225425720215\n",
      "Epoch 95, Loss: 0.41327807307243347\n",
      "Epoch 96, Loss: 0.2996872663497925\n",
      "Epoch 97, Loss: 0.34841108322143555\n",
      "Epoch 98, Loss: 0.5084981918334961\n",
      "Epoch 99, Loss: 0.29452836513519287\n",
      "Epoch 100, Loss: 0.34738507866859436\n"
     ]
    }
   ]
  },
  {
   "cell_type": "code",
   "source": [
    "test_model(model, test_loader)"
   ],
   "metadata": {
    "id": "zw5MP7SSwmOq"
   },
   "execution_count": null,
   "outputs": []
  }
 ]
}
